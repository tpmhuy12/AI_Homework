{
 "cells": [
  {
   "cell_type": "code",
   "execution_count": 2,
   "metadata": {},
   "outputs": [
    {
     "name": "stdout",
     "output_type": "stream",
     "text": [
      "Tên: Huy\n"
     ]
    },
    {
     "data": {
      "application/vnd.jupyter.widget-view+json": {
       "model_id": "e28b81ef2c0f4fc085b9b1557888bffb",
       "version_major": 2,
       "version_minor": 0
      },
      "text/plain": [
       "Text(value='Huy', description='Văn bản:', placeholder='Nhập văn bản ở đây')"
      ]
     },
     "metadata": {},
     "output_type": "display_data"
    },
    {
     "data": {
      "application/vnd.jupyter.widget-view+json": {
       "model_id": "750dbbc9c8534fe7a39e211d0752c1de",
       "version_major": 2,
       "version_minor": 0
      },
      "text/plain": [
       "Button(description='Nhấn vào đây', style=ButtonStyle())"
      ]
     },
     "metadata": {},
     "output_type": "display_data"
    },
    {
     "data": {
      "application/vnd.jupyter.widget-view+json": {
       "model_id": "d8019ccc13b7421fa57e729ffe15f73f",
       "version_major": 2,
       "version_minor": 0
      },
      "text/plain": [
       "Output()"
      ]
     },
     "metadata": {},
     "output_type": "display_data"
    }
   ],
   "source": [
    "import ipywidgets as widgets\n",
    "from IPython.display import display     \n",
    "\n",
    "# slider = widgets.IntSlider(\n",
    "#     value=5,\n",
    "#     min=0,\n",
    "#     max=10,\n",
    "#     step=1,\n",
    "#     description='Gia trị:')\n",
    "# display(slider)\n",
    "\n",
    "# float_slider = widgets.FloatSlider(\n",
    "#     value=5.0,  \n",
    "#     min=0.0,\n",
    "#     max=10.0,\n",
    "#     step=0.1,\n",
    "#     description='Giá trị:')\n",
    "\n",
    "# dropdown = widgets.Dropdown(\n",
    "#     options=['Option 1', 'Option 2', 'Option 3'],\n",
    "#     value='Option 1',\n",
    "#     description='Chọn:')\n",
    "# display(float_slider, dropdown)\n",
    "# print(dropdown.description)\n",
    "\n",
    "name = input('nhập tên:')\n",
    "print('Tên:', name)\n",
    "\n",
    "text_box = widgets.Text(\n",
    "    value= name,\n",
    "    placeholder='Nhập văn bản ở đây',\n",
    "    description='Văn bản:'\n",
    ")\n",
    "display(text_box)\n",
    "\n",
    "\n",
    "button = widgets.Button(\n",
    "    description='Nhấn vào đây')\n",
    "output = widgets.Output()\n",
    "\n",
    "def on_button_click(b):\n",
    "    with output:\n",
    "        output.clear_output()\n",
    "        print('Nút đã được nhấn!')\n",
    "button.on_click(on_button_click)\n",
    "display(button, output) \n"
   ]
  },
  {
   "cell_type": "code",
   "execution_count": 2,
   "metadata": {},
   "outputs": [
    {
     "name": "stdout",
     "output_type": "stream",
     "text": [
      "Tên:  Huy\n"
     ]
    },
    {
     "ename": "NameError",
     "evalue": "name 'widgets' is not defined",
     "output_type": "error",
     "traceback": [
      "\u001b[31m---------------------------------------------------------------------------\u001b[39m",
      "\u001b[31mNameError\u001b[39m                                 Traceback (most recent call last)",
      "\u001b[36mCell\u001b[39m\u001b[36m \u001b[39m\u001b[32mIn[2]\u001b[39m\u001b[32m, line 4\u001b[39m\n\u001b[32m      1\u001b[39m name=\u001b[38;5;28minput\u001b[39m(\u001b[33m'\u001b[39m\u001b[33mNhập tên: \u001b[39m\u001b[33m'\u001b[39m)\n\u001b[32m      2\u001b[39m \u001b[38;5;28mprint\u001b[39m(\u001b[33m'\u001b[39m\u001b[33mTên: \u001b[39m\u001b[33m'\u001b[39m,name)\n\u001b[32m----> \u001b[39m\u001b[32m4\u001b[39m text_box = \u001b[43mwidgets\u001b[49m.Text(\n\u001b[32m      5\u001b[39m     value=name,\n\u001b[32m      6\u001b[39m     placeholder=\u001b[33m'\u001b[39m\u001b[33mNhập tên bạn\u001b[39m\u001b[33m'\u001b[39m,\n\u001b[32m      7\u001b[39m     description=\u001b[33m'\u001b[39m\u001b[33mHọ tên:\u001b[39m\u001b[33m'\u001b[39m\n\u001b[32m      8\u001b[39m )\n\u001b[32m      9\u001b[39m display(text_box)\n",
      "\u001b[31mNameError\u001b[39m: name 'widgets' is not defined"
     ]
    }
   ],
   "source": [
    "name=input('Nhập tên: ')\n",
    "print('Tên: ',name)\n",
    "\n",
    "text_box = widgets.Text(\n",
    "    value=name,\n",
    "    placeholder='Nhập tên bạn',\n",
    "    description='Họ tên:'\n",
    ")\n",
    "display(text_box)\n"
   ]
  },
  {
   "cell_type": "code",
   "execution_count": 11,
   "metadata": {},
   "outputs": [
    {
     "data": {
      "application/vnd.jupyter.widget-view+json": {
       "model_id": "6889570d57a94fbdada31d8784e3c495",
       "version_major": 2,
       "version_minor": 0
      },
      "text/plain": [
       "Text(value='', description='Họ tên:')"
      ]
     },
     "metadata": {},
     "output_type": "display_data"
    },
    {
     "data": {
      "application/vnd.jupyter.widget-view+json": {
       "model_id": "4be6baadd61d45349d6885f62b192e55",
       "version_major": 2,
       "version_minor": 0
      },
      "text/plain": [
       "IntSlider(value=0, description='Tuổi:')"
      ]
     },
     "metadata": {},
     "output_type": "display_data"
    },
    {
     "data": {
      "application/vnd.jupyter.widget-view+json": {
       "model_id": "0078ee773b564dd9858d631b66a9a1e5",
       "version_major": 2,
       "version_minor": 0
      },
      "text/plain": [
       "Button(description='Lưu vào CSV', style=ButtonStyle())"
      ]
     },
     "metadata": {},
     "output_type": "display_data"
    }
   ],
   "source": [
    "import csv\n",
    "from IPython.display import display\n",
    "import ipywidgets as widgets\n",
    "name_input = widgets.Text(description=\"Họ tên:\")\n",
    "age_input = widgets.IntSlider(min=0, max=100, description=\"Tuổi:\")\n",
    "button_save = widgets.Button(description=\"Lưu vào CSV\")\n",
    "def save_to_csv(b):\n",
    "    with open('data.csv', mode='a', newline='') as file:\n",
    "        writer = csv.writer(file)\n",
    "        writer.writerow([name_input.value, age_input.value])\n",
    "    print(\"Saved:\", name_input.value, age_input.value)\n",
    "button_save.on_click(save_to_csv)\n",
    "display(name_input, age_input, button_save)\n"
   ]
  },
  {
   "cell_type": "code",
   "execution_count": 12,
   "metadata": {},
   "outputs": [
    {
     "data": {
      "application/vnd.jupyter.widget-view+json": {
       "model_id": "8fa0b4fe96564c3dac8df26ee8c98cf0",
       "version_major": 2,
       "version_minor": 0
      },
      "text/plain": [
       "interactive(children=(FloatSlider(value=5.0, description='Web_Visit_Frequency', max=10.0, step=0.5), FloatSlid…"
      ]
     },
     "metadata": {},
     "output_type": "display_data"
    },
    {
     "data": {
      "text/plain": [
       "<function __main__.fuzzy_AttentionLv(Web_Visit_Frequency, Average_Purchase_Value, engagement_level)>"
      ]
     },
     "execution_count": 12,
     "metadata": {},
     "output_type": "execute_result"
    }
   ],
   "source": [
    "import numpy as np\n",
    "import skfuzzy as fuzz\n",
    "from skfuzzy import control as ctrl\n",
    "import matplotlib.pyplot as plt\n",
    "from ipywidgets import interact, FloatSlider\n",
    "\n",
    "import csv\n",
    "from IPython.display import display\n",
    "import ipywidgets as widgets\n",
    "\n",
    "name_input = widgets.Text(description=\"Họ tên:\")\n",
    "age_input = widgets.IntSlider(min=0, max=100, description=\"Tuổi:\")\n",
    "button_save = widgets.Button(description=\"Lưu vào CSV\")\n",
    "\n",
    "\n",
    "# Khai báo các biến mờ\n",
    "# Tần số truy câp trang web (Web Visit Frequency)\n",
    "WVF = ctrl.Antecedent(np.arange(0, 11, 1), 'WVF')\n",
    "WVF['R'] = fuzz.trimf(WVF.universe, [0, 0, 5])      # Hiếm\n",
    "WVF['ST'] = fuzz.trimf(WVF.universe, [2, 5, 8])      # Thỉnh thoảng\n",
    "WVF['A'] = fuzz.trimf(WVF.universe, [5, 10, 10])    # Thường xuyên\n",
    "\n",
    "# Giá trị mua hàng trung bình (Average Purchase Value)\n",
    "APV = ctrl.Antecedent(np.arange(0, 11, 1), 'APV')\n",
    "APV['L'] = fuzz.trimf(APV.universe, [0, 0, 5])    # Thấp\n",
    "APV['M'] = fuzz.trimf(APV.universe, [2, 5, 8])    # Trung bình\n",
    "APV['H'] = fuzz.trimf(APV.universe, [5, 10, 10])  # Cao\n",
    "\n",
    "# Mức độ tương tác (Engagement Level)\n",
    "EL = ctrl.Antecedent(np.arange(0, 11, 1), 'EL')\n",
    "EL['L'] = fuzz.trimf(EL.universe, [0, 0, 5])      # Thấp\n",
    "EL['M'] = fuzz.trimf(EL.universe, [2, 5, 8])      # Trung bình\n",
    "EL['H'] = fuzz.trimf(EL.universe, [5, 10, 10])    # Cao\n",
    "\n",
    "\n",
    "# Mức độ chú ý tiếp  - Biến đầu ra\n",
    "AttentionLv = ctrl.Consequent(np.arange(0, 11, 1), 'AttentionLv')\n",
    "AttentionLv['VL'] = fuzz.trimf(AttentionLv.universe, [0, 0, 3])      # Rất thấp\n",
    "AttentionLv['L'] = fuzz.trimf(AttentionLv.universe, [2, 3, 4])      # Thấp\n",
    "AttentionLv['M'] = fuzz.trimf(AttentionLv.universe, [3, 4, 5])      # Trung bình\n",
    "AttentionLv['H'] = fuzz.trimf(AttentionLv.universe, [4, 6, 8])    # Cao\n",
    "AttentionLv['VH'] = fuzz.trimf(AttentionLv.universe, [8, 10, 10])  # Rất cao\n",
    "\n",
    "# Các luật shopee\n",
    "\n",
    "rule1 = ctrl.Rule(WVF['A'] & APV['H'] & EL['H'], AttentionLv['H'])  # Thường xuyên truy cập, giá trị mua cao, tương tác cao -> Chú ý cao\n",
    "rule2 = ctrl.Rule(WVF['ST'] & APV['M'] & EL['M'], AttentionLv['M'])  # Thỉnh thoảng truy cập, giá trị mua trung bình, tương tác trung bình -> Chú ý trung bình\n",
    "rule3 = ctrl.Rule(WVF['R'] or EL['L'], AttentionLv['VL'])  # Hiếm truy cập, giá trị mua thấp, tương tác thấp -> Chú ý thấp\n",
    "rule4 = ctrl.Rule(WVF['R'] & APV['H'] & EL['H'], AttentionLv['M'])  # Hiếm truy cập, giá trị mua cao, tương tác cao -> Chú ý trung bình\n",
    "\n",
    "# Các luật khác\n",
    "rule5 = ctrl.Rule(WVF['ST'] & APV['L'] & EL['L'], AttentionLv['L'])  # Thỉnh thoảng truy cập, giá trị mua thấp, tương tác thấp -> Chú ý thấp\n",
    "rule6 = ctrl.Rule(WVF['A'] & APV['M'] & EL['M'], AttentionLv['H'])  # Thường xuyên truy cập, giá trị mua trung bình, tương tác trung bình -> Chú ý cao\n",
    "rule7 = ctrl.Rule(WVF['R'] & APV['M'] & EL['H'], AttentionLv['M'])  # Hiếm truy cập, giá trị mua trung bình, tương tác cao -> Chú ý trung bình\n",
    "\n",
    "# Khởi tạo hệ thống và mô phỏng\n",
    "control_system = ctrl.ControlSystem([\n",
    "    rule1, rule2, rule3, rule4, rule5, rule6, rule7\n",
    "])\n",
    "\n",
    "logistic = ctrl.ControlSystemSimulation(control_system)\n",
    "\n",
    "\n",
    "def fuzzy_AttentionLv(Web_Visit_Frequency,Average_Purchase_Value, engagement_level):\n",
    "    logistic.input['WVF'] = Web_Visit_Frequency\n",
    "    logistic.input['APV'] = Average_Purchase_Value\n",
    "    logistic.input['EL'] =  engagement_level\n",
    "    logistic.compute()\n",
    "    result = logistic.output['AttentionLv']\n",
    "    \n",
    "    print(f\"→ Với Web_Visit_Frequency = {Web_Visit_Frequency}, APV = {Average_Purchase_Value}, EL ={engagement_level} → AttentionLv ≈ {result:.2f}\")\n",
    "\n",
    "    # A. Vẽ biểu đồ cột của đầu vào\n",
    "    fig, axs = plt.subplots(1, 4, figsize=(20, 4))\n",
    "\n",
    "\n",
    "    # 1. Biểu đồ Web_Visit_Frequency\n",
    "    Web_Visit_Frequency_membership = {\n",
    "    'poor': fuzz.interp_membership(WVF.universe, WVF['R'].mf, Web_Visit_Frequency),\n",
    "    'average': fuzz.interp_membership(WVF.universe, WVF['ST'].mf, Web_Visit_Frequency),\n",
    "    'good': fuzz.interp_membership(WVF.universe, WVF['A'].mf, Web_Visit_Frequency)\n",
    "    }\n",
    "    \n",
    "    axs[0].bar(Web_Visit_Frequency_membership.keys(), Web_Visit_Frequency_membership.values(), color='salmon')\n",
    "    axs[0].set_title(f\"Web_Visit_Frequency = {Web_Visit_Frequency}\")\n",
    "    axs[0].set_ylim(0, 1)\n",
    "\n",
    "    # 2. Biểu đồ APV\n",
    "    APV_membership = {\n",
    "        'poor': fuzz.interp_membership(APV.universe, APV['L'].mf, Average_Purchase_Value),\n",
    "        'average': fuzz.interp_membership(APV.universe, APV['M'].mf, Average_Purchase_Value),\n",
    "        'good': fuzz.interp_membership(APV.universe, APV['H'].mf, Average_Purchase_Value)\n",
    "    }\n",
    "    axs[1].bar(APV_membership.keys(), APV_membership.values(), color='lightblue')\n",
    "    axs[1].set_title(f\"APV = {Average_Purchase_Value}\")\n",
    "    axs[1].set_ylim(0, 1)\n",
    "\n",
    "    # 3. Biểu đồ EL\n",
    "    EL_membership = {\n",
    "        'poor': fuzz.interp_membership(EL.universe, EL['L'].mf, engagement_level),\n",
    "        'average': fuzz.interp_membership(EL.universe, EL['M'].mf, engagement_level),\n",
    "        'good': fuzz.interp_membership(EL.universe, EL['H'].mf, engagement_level)\n",
    "    }\n",
    "    axs[2].bar(EL_membership.keys(), EL_membership.values(), color='lightgreen')\n",
    "    axs[2].set_title(f\"Engagement Level = {engagement_level}\")\n",
    "    axs[2].set_ylim(0, 1)\n",
    "\n",
    "    # 3. Biểu đồ AteentionLv\n",
    "    AttentionLv_membership = {\n",
    "        'VL': fuzz.interp_membership(AttentionLv.universe, AttentionLv['VL'].mf, result),\n",
    "        'L': fuzz.interp_membership(AttentionLv.universe, AttentionLv['L'].mf, result),\n",
    "        'M': fuzz.interp_membership(AttentionLv.universe, AttentionLv['M'].mf, result),\n",
    "        'H': fuzz.interp_membership(AttentionLv.universe, AttentionLv['H'].mf, result),\n",
    "        'VH': fuzz.interp_membership(AttentionLv.universe, AttentionLv['VH'].mf, result)\n",
    "    }\n",
    "    axs[3].bar(AttentionLv_membership.keys(), AttentionLv_membership.values(), color='orange')\n",
    "    axs[3].set_title(f\"AttentionLv ≈ {result:.2f}\")\n",
    "    axs[3].set_ylim(0, 1)\n",
    "    plt.tight_layout()\n",
    "    # B. Vẽ biểu đồ tập mờ AttentionLv\n",
    "    AttentionLv.view(sim=logistic)\n",
    "    plt.show()\n",
    "# 7. Giao diện tương tác\n",
    "interact(fuzzy_AttentionLv,\n",
    "         Web_Visit_Frequency=FloatSlider(min=0, max=10, step=0.5, value=5, description='Web_Visit_Frequency'),\n",
    "         Average_Purchase_Value=FloatSlider(min=0, max=10, step=0.5, value=5, description='APV')\n",
    "         , engagement_level=FloatSlider(min=0, max=10, step=0.5, value=5, description='Engagement Level')\n",
    "         )\n",
    "\n"
   ]
  },
  {
   "cell_type": "code",
   "execution_count": 18,
   "metadata": {},
   "outputs": [
    {
     "data": {
      "application/vnd.jupyter.widget-view+json": {
       "model_id": "a7fc6f23f552420fa3f657c9e387788d",
       "version_major": 2,
       "version_minor": 0
      },
      "text/plain": [
       "Text(value='', description='Họ tên:')"
      ]
     },
     "metadata": {},
     "output_type": "display_data"
    },
    {
     "data": {
      "application/vnd.jupyter.widget-view+json": {
       "model_id": "64d8190ffad3451faff7b1d700b250a3",
       "version_major": 2,
       "version_minor": 0
      },
      "text/plain": [
       "IntSlider(value=0, description='Tuổi:')"
      ]
     },
     "metadata": {},
     "output_type": "display_data"
    },
    {
     "data": {
      "application/vnd.jupyter.widget-view+json": {
       "model_id": "ff476805c63b42a5b940c652178c50c6",
       "version_major": 2,
       "version_minor": 0
      },
      "text/plain": [
       "IntSlider(value=5, description='Hiệu suất', max=10)"
      ]
     },
     "metadata": {},
     "output_type": "display_data"
    },
    {
     "data": {
      "application/vnd.jupyter.widget-view+json": {
       "model_id": "6da8145e8b5044539be2144312e4c8e3",
       "version_major": 2,
       "version_minor": 0
      },
      "text/plain": [
       "IntSlider(value=5, description='Tính kỷ luật', max=10)"
      ]
     },
     "metadata": {},
     "output_type": "display_data"
    },
    {
     "data": {
      "application/vnd.jupyter.widget-view+json": {
       "model_id": "0d3f8ec998af472498bf898582d7e842",
       "version_major": 2,
       "version_minor": 0
      },
      "text/plain": [
       "Button(description='Tính thưởng vào lương và Lưu', style=ButtonStyle())"
      ]
     },
     "metadata": {},
     "output_type": "display_data"
    },
    {
     "data": {
      "application/vnd.jupyter.widget-view+json": {
       "model_id": "6a7d80ad9097457f8f964981a81ef9e4",
       "version_major": 2,
       "version_minor": 0
      },
      "text/plain": [
       "Output()"
      ]
     },
     "metadata": {},
     "output_type": "display_data"
    }
   ],
   "source": [
    "import numpy as np\n",
    "import skfuzzy as fuzz\n",
    "from skfuzzy import control as ctrl\n",
    "hieusuat = ctrl.Antecedent(np.arange(0, 11, 1), 'hieusuat')\n",
    "kyluat = ctrl.Antecedent(np.arange(0, 11, 1), 'kyluat')\n",
    "thuong = ctrl.Consequent(np.arange(0, 101, 1), 'thuong')\n",
    "hieusuat.automf(3)\n",
    "kyluat.automf(3)\n",
    "thuong['thap'] = fuzz.trimf(thuong.universe, [0, 0, 50])\n",
    "thuong['vua'] = fuzz.trimf(thuong.universe, [30, 50, 70])\n",
    "thuong['cao'] = fuzz.trimf(thuong.universe, [50, 100, 100])\n",
    "rule1 = ctrl.Rule(hieusuat['poor'] | kyluat['poor'], thuong['thap'])\n",
    "rule2 = ctrl.Rule(hieusuat['average'] & kyluat['average'], thuong['vua'])\n",
    "rule3 = ctrl.Rule(hieusuat['good'] & kyluat['good'], thuong['cao'])\n",
    "thuong_ctrl = ctrl.ControlSystem([rule1, rule2, rule3])\n",
    "thuong_sim = ctrl.ControlSystemSimulation(thuong_ctrl)\n",
    "\n",
    "name_input = widgets.Text(description=\"Họ tên:\")\n",
    "age_input = widgets.IntSlider(min=0, max=100, description=\"Tuổi:\")\n",
    "slider_hieu = widgets.IntSlider(value=5, min=0, max=10, description='Hiệu suất')\n",
    "slider_ky = widgets.IntSlider(value=5, min=0, max=10, description='Tính kỷ luật')\n",
    "button_tinh = widgets.Button(description='Tính thưởng vào lương và Lưu')\n",
    "output = widgets.Output()\n",
    "def calculation_save(b):\n",
    "    with output:\n",
    "        output.clear_output()\n",
    "        thuong_sim.input['hieusuat'] = slider_hieu.value\n",
    "        thuong_sim.input['kyluat'] = slider_ky.value\n",
    "        thuong_sim.compute()\n",
    "        ketqua = thuong_sim.output['thuong']\n",
    "        print(f\"Tiền thưởng: {ketqua:.2f} triệu đồng\")\n",
    "        with open('thuong.csv', mode='a', newline='') as file:\n",
    "            writer = csv.writer(file)\n",
    "            writer.writerow([name_input.value, age_input.value,slider_hieu.value, slider_ky.value, round(ketqua, 2)])\n",
    "        print(\"Đã lưu dữ liệu vào file 'thuong.csv'\")\n",
    "button_tinh.on_click(calculation_save)\n",
    "display(name_input,age_input,slider_hieu, slider_ky, button_tinh, output)\n",
    "\n",
    "\n",
    "# button_save = widgets.Button(description=\"Lưu vào CSV\")\n",
    "# def save_to_csv(b):\n",
    "#     with open('data.csv', mode='a', newline='') as file:\n",
    "#         writer = csv.writer(file)\n",
    "#         writer.writerow([name_input.value, age_input.value])\n",
    "#     print(\"Saved:\", name_input.value, age_input.value)\n",
    "# button_save.on_click(save_to_csv)\n",
    "# display(name_input, age_input, button_save)"
   ]
  },
  {
   "cell_type": "code",
   "execution_count": null,
   "metadata": {},
   "outputs": [],
   "source": [
    "import numpy as np\n",
    "import skfuzzy as fuzz\n",
    "import skfuzzy.control as ctrl\n",
    "from matplotlib import pyplot as plt\n",
    "\n",
    "# Khai báo các biến mờ\n",
    "# Tần số truy câp trang web (Web Visit Frequency)\n",
    "WVF = ctrl.Antecedent(np.arange(0, 11, 1), 'WVF')\n",
    "WVF['R'] = fuzz.trimf(WVF.universe, [0, 0, 5])      # Hiếm\n",
    "WVF['ST'] = fuzz.trimf(WVF.universe, [2, 5, 8])      # Thỉnh thoảng\n",
    "WVF['A'] = fuzz.trimf(WVF.universe, [5, 10, 10])    # Thường xuyên\n",
    "\n",
    "# Giá trị mua hàng trung bình (Average Purchase Value)\n",
    "APV = ctrl.Antecedent(np.arange(0, 11, 1), 'APV')\n",
    "APV['L'] = fuzz.trimf(APV.universe, [0, 0, 5])    # Thấp\n",
    "APV['M'] = fuzz.trimf(APV.universe, [2, 5, 8])    # Trung bình\n",
    "APV['H'] = fuzz.trimf(APV.universe, [5, 10, 10])  # Cao\n",
    "\n",
    "# Mức độ tương tác (Engagement Level)\n",
    "EL = ctrl.Antecedent(np.arange(0, 11, 1), 'EL')\n",
    "EL['L'] = fuzz.trimf(EL.universe, [0, 0, 5])      # Thấp\n",
    "EL['M'] = fuzz.trimf(EL.universe, [2, 5, 8])      # Trung bình\n",
    "EL['H'] = fuzz.trimf(EL.universe, [5, 10, 10])    # Cao\n",
    "\n",
    "\n",
    "# Mức độ chú ý tiếp  - Biến đầu ra\n",
    "AttentionLv = ctrl.Consequent(np.arange(0, 11, 1), 'AttentionLv')\n",
    "AttentionLv['VL'] = fuzz.trimf(AttentionLv.universe, [0, 0, 3])      # Rất thấp\n",
    "AttentionLv['L'] = fuzz.trimf(AttentionLv.universe, [2, 3, 4])      # Thấp\n",
    "AttentionLv['M'] = fuzz.trimf(AttentionLv.universe, [3, 4, 5])      # Trung bình\n",
    "AttentionLv['H'] = fuzz.trimf(AttentionLv.universe, [4, 6, 8])    # Cao\n",
    "AttentionLv['VH'] = fuzz.trimf(AttentionLv.universe, [8, 10, 10])  # Rất cao\n",
    "\n",
    "# Các luật shopee\n",
    "\n",
    "rule1 = ctrl.Rule(WVF['A'] & APV['H'] & EL['H'], AttentionLv['H'])  # Thường xuyên truy cập, giá trị mua cao, tương tác cao -> Chú ý cao\n",
    "rule2 = ctrl.Rule(WVF['ST'] & APV['M'] & EL['M'], AttentionLv['M'])  # Thỉnh thoảng truy cập, giá trị mua trung bình, tương tác trung bình -> Chú ý trung bình\n",
    "rule3 = ctrl.Rule(WVF['R'] or EL['L'], AttentionLv['VL'])  # Hiếm truy cập, giá trị mua thấp, tương tác thấp -> Chú ý thấp\n",
    "rule4 = ctrl.Rule(WVF['R'] & APV['H'] & EL['H'], AttentionLv['M'])  # Hiếm truy cập, giá trị mua cao, tương tác cao -> Chú ý trung bình\n",
    "\n",
    "# Các luật khác\n",
    "rule5 = ctrl.Rule(WVF['ST'] & APV['L'] & EL['L'], AttentionLv['L'])  # Thỉnh thoảng truy cập, giá trị mua thấp, tương tác thấp -> Chú ý thấp\n",
    "rule6 = ctrl.Rule(WVF['A'] & APV['M'] & EL['M'], AttentionLv['H'])  # Thường xuyên truy cập, giá trị mua trung bình, tương tác trung bình -> Chú ý cao\n",
    "rule7 = ctrl.Rule(WVF['R'] & APV['M'] & EL['H'], AttentionLv['M'])  # Hiếm truy cập, giá trị mua trung bình, tương tác cao -> Chú ý trung bình\n",
    "\n",
    "# Khởi tạo hệ thống và mô phỏng\n",
    "control_system = ctrl.ControlSystem([\n",
    "    rule1, rule2, rule3, rule4, rule5, rule6, rule7\n",
    "])\n",
    "\n",
    "logistic = ctrl.ControlSystemSimulation(control_system)\n",
    "\n",
    "# Đầu vào ví dụ\n",
    "logistic.input['WVF'] =  7   # Mật độ đơn hàng cao (giá trị thuộc \"H\")\n",
    "logistic.input['APV'] =  9   # Mức độ khẩn cấp giao hàng trung bình (giá trị thuộc \"M\")\n",
    "logistic.input['EL'] = 9      # Tải trọng hiện tại của tài xế thấp (giá trị thuộc \"L\")\n",
    "\n",
    "# Tính toán\n",
    "logistic.compute()\n",
    "\n",
    "# Xuất kết quả\n",
    "\n",
    "print(\"Mức độ chú ý: \", logistic.output['AttentionLv'])\n",
    "\n",
    "\n",
    "# Hiển thị đồ thị kết quả\n",
    "WVF.view()\n",
    "APV.view()\n",
    "EL.view() \n",
    "\n",
    "AttentionLv.view(sim=logistic)\n",
    "\n",
    "plt.show()"
   ]
  },
  {
   "cell_type": "code",
   "execution_count": null,
   "metadata": {},
   "outputs": [
    {
     "data": {
      "application/vnd.jupyter.widget-view+json": {
       "model_id": "64c5186e3e174df0ac65429fd431586c",
       "version_major": 2,
       "version_minor": 0
      },
      "text/plain": [
       "VBox(children=(IntSlider(value=5, description='Quality:', max=10), IntSlider(value=5, description='Punctuality…"
      ]
     },
     "metadata": {},
     "output_type": "display_data"
    }
   ],
   "source": [
    "import numpy as np\n",
    "import skfuzzy as fuzz\n",
    "from skfuzzy import control as ctrl\n",
    "import ipywidgets as widgets\n",
    "from IPython.display import display, clear_output\n",
    "\n",
    "# Define input variables\n",
    "quality = ctrl.Antecedent(np.arange(0, 11, 1), 'quality')\n",
    "punctuality = ctrl.Antecedent(np.arange(0, 11, 1), 'punctuality')\n",
    "\n",
    "# Define output variables\n",
    "bonus = ctrl.Consequent(np.arange(0, 101, 1), 'bonus')\n",
    "promotion = ctrl.Consequent(np.arange(0, 11, 1), 'promotion')\n",
    "# Membership functions for quality\n",
    "quality['poor'] = fuzz.trimf(quality.universe, [0, 0, 5])\n",
    "quality['average'] = fuzz.trimf(quality.universe, [3, 5, 7])\n",
    "quality['excellent'] = fuzz.trimf(quality.universe, [6, 10, 10])\n",
    "# Membership functions for punctuality\n",
    "punctuality['late'] = fuzz.trimf(punctuality.universe, [0, 0, 5])\n",
    "punctuality['sometimes'] = fuzz.trimf(punctuality.universe, [3, 5, 7])\n",
    "punctuality['ontime'] = fuzz.trimf(punctuality.universe, [6, 10, 10])\n",
    "# Membership functions for bonus\n",
    "bonus['low'] = fuzz.trimf(bonus.universe, [0, 0, 40])\n",
    "bonus['medium'] = fuzz.trimf(bonus.universe, [30, 50, 70])\n",
    "bonus['high'] = fuzz.trimf(bonus.universe, [60, 100, 100])\n",
    "# Membership functions for promotion\n",
    "promotion['unlikely'] = fuzz.trimf(promotion.universe, [0, 0, 4])\n",
    "promotion['possible'] = fuzz.trimf(promotion.universe, [3, 5, 7])\n",
    "promotion['likely'] = fuzz.trimf(promotion.universe, [6, 10, 10])\n",
    "# Define rules\n",
    "rule1 = ctrl.Rule(quality['poor'] | punctuality['late'], [bonus['low'], promotion['unlikely']])\n",
    "rule2 = ctrl.Rule(quality['average'] & punctuality['sometimes'], [bonus['medium'], \n",
    "                                                     promotion['possible']])\n",
    "rule3 = ctrl.Rule(quality['excellent'] & punctuality['ontime'], [bonus['high'],\n",
    "                                                     promotion['likely']])\n",
    "\n",
    "# Create control system\n",
    "mgmt_ctrl = ctrl.ControlSystem([rule1, rule2, rule3])\n",
    "mgmt_sim = ctrl.ControlSystemSimulation(mgmt_ctrl)\n",
    "\n",
    "plt.show()\n",
    "\n",
    "# Sliders\n",
    "quality_slider = widgets.IntSlider(value=5, min=0, max=10, step=1, description='Quality:')\n",
    "punctuality_slider = widgets.IntSlider(value=5, min=0, max=10, step=1,\n",
    "                                                       description='Punctuality:')\n",
    "# Output display\n",
    "output = widgets.Output()\n",
    "# Button\n",
    "button = widgets.Button(description='Evaluate')\n",
    "# Function to compute fuzzy logic\n",
    "def evaluate_fuzzy(change):\n",
    "    with output:\n",
    "        clear_output()\n",
    "        q = quality_slider.value\n",
    "        p = punctuality_slider.value\n",
    "        mgmt_sim.input['quality'] = q\n",
    "        mgmt_sim.input['punctuality'] = p\n",
    "        mgmt_sim.compute()\n",
    "        bonus_result = mgmt_sim.output['bonus']\n",
    "        promotion_result = mgmt_sim.output['promotion']\n",
    "        \n",
    "        print(f\"Đầu vào - Chất lượng: {q}, Chuyên cần: {p}\")\n",
    "        print(f\"Tiền thưởng: {bonus_result:.2f}%\")\n",
    "        print(f\"🚀 Phù hợp khuyến mãi: {promotion_result:.2f}/10\")\n",
    "button.on_click(evaluate_fuzzy)\n",
    "\n",
    "# Show GUI\n",
    "ui = widgets.VBox([quality_slider, punctuality_slider, button, output])\n",
    "display(ui)\n",
    "\n"
   ]
  }
 ],
 "metadata": {
  "kernelspec": {
   "display_name": "tf_env_311",
   "language": "python",
   "name": "python3"
  },
  "language_info": {
   "codemirror_mode": {
    "name": "ipython",
    "version": 3
   },
   "file_extension": ".py",
   "mimetype": "text/x-python",
   "name": "python",
   "nbconvert_exporter": "python",
   "pygments_lexer": "ipython3",
   "version": "3.11.13"
  }
 },
 "nbformat": 4,
 "nbformat_minor": 2
}
